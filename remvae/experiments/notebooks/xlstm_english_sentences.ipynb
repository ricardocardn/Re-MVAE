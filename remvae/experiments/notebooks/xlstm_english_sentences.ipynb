{
 "cells": [
  {
   "cell_type": "code",
   "execution_count": 1,
   "id": "15c567b4",
   "metadata": {},
   "outputs": [
    {
     "name": "stdout",
     "output_type": "stream",
     "text": [
      "Current dir: /Users/ricardojuancardenesperez/tfg/framework\n"
     ]
    }
   ],
   "source": [
    "import os\n",
    "import sys\n",
    "\n",
    "project_root = os.path.abspath(os.path.join(os.getcwd(), \"../..\"))\n",
    "os.chdir(project_root)\n",
    "\n",
    "if project_root not in sys.path:\n",
    "    sys.path.append(project_root)\n",
    "\n",
    "print(\"Current dir:\", os.getcwd())"
   ]
  },
  {
   "cell_type": "code",
   "execution_count": 2,
   "id": "5f7e80d7",
   "metadata": {},
   "outputs": [],
   "source": [
    "import torch\n",
    "import torch.nn as nn\n",
    "from torch.nn.utils.rnn import pad_sequence"
   ]
  },
  {
   "cell_type": "code",
   "execution_count": null,
   "id": "6a3ad30c",
   "metadata": {},
   "outputs": [],
   "source": [
    "from playground.readers.EnglishSentencesTextDataset.reader import Reader\n",
    "from torch.utils.data import DataLoader\n",
    "\n",
    "from playground.architectures.xLSTMSeq2seqBidirectionalAutoregressive import (\n",
    "    Builder,\n",
    "    Wrapper\n",
    ")\n",
    "\n",
    "from playground.trainers import TextAnnealingTrainer"
   ]
  },
  {
   "cell_type": "code",
   "execution_count": 4,
   "id": "9fadf09c",
   "metadata": {},
   "outputs": [],
   "source": [
    "from omegaconf import OmegaConf\n",
    "from dacite import from_dict, Config as DaciteConfig\n",
    "from xlstm import xLSTMBlockStackConfig"
   ]
  },
  {
   "cell_type": "code",
   "execution_count": 5,
   "id": "23dc910b",
   "metadata": {},
   "outputs": [],
   "source": [
    "import pandas as pd\n",
    "import matplotlib.pyplot as plt"
   ]
  },
  {
   "cell_type": "markdown",
   "id": "a92af3eb",
   "metadata": {},
   "source": [
    "# Dataset"
   ]
  },
  {
   "cell_type": "code",
   "execution_count": 6,
   "id": "75dfa929",
   "metadata": {},
   "outputs": [],
   "source": [
    "dataset = Reader()"
   ]
  },
  {
   "cell_type": "code",
   "execution_count": 7,
   "id": "f7d12380",
   "metadata": {},
   "outputs": [
    {
     "name": "stdout",
     "output_type": "stream",
     "text": [
      "tensor([159, 137,  33, 289,  65, 244,  64, 119, 184,  78])\n"
     ]
    }
   ],
   "source": [
    "for sample in dataset:\n",
    "    print(sample)\n",
    "    break"
   ]
  },
  {
   "cell_type": "code",
   "execution_count": 8,
   "id": "e014e753",
   "metadata": {},
   "outputs": [],
   "source": [
    "pad_idx = dataset.tokenizer.token2idx['<pad>']"
   ]
  },
  {
   "cell_type": "code",
   "execution_count": 9,
   "id": "c64f5d05",
   "metadata": {},
   "outputs": [],
   "source": [
    "def collate_fn(batch, max_len=30):\n",
    "    global pad_idx\n",
    "    batch = pad_sequence(batch, batch_first=True, padding_value=pad_idx)\n",
    "    \n",
    "    if batch.size(1) < max_len:\n",
    "        pad_len = max_len - batch.size(1)\n",
    "        pad_tensor = torch.full(\n",
    "            (batch.size(0), pad_len, *batch.shape[2:]),\n",
    "            fill_value=pad_idx,\n",
    "            dtype=batch.dtype\n",
    "        )\n",
    "        batch = torch.cat([batch, pad_tensor], dim=1)\n",
    "    \n",
    "    return batch[:, :max_len]"
   ]
  },
  {
   "cell_type": "code",
   "execution_count": 10,
   "id": "15fc3ac6",
   "metadata": {},
   "outputs": [],
   "source": [
    "from functools import partial\n",
    "\n",
    "loader = DataLoader(dataset, batch_size=4, collate_fn=partial(collate_fn, max_len=30), shuffle=True)"
   ]
  },
  {
   "cell_type": "code",
   "execution_count": 11,
   "id": "74e207a6",
   "metadata": {},
   "outputs": [
    {
     "name": "stdout",
     "output_type": "stream",
     "text": [
      "torch.Size([4, 30])\n"
     ]
    }
   ],
   "source": [
    "for batch in loader:\n",
    "    print(batch.shape)\n",
    "    break"
   ]
  },
  {
   "cell_type": "markdown",
   "id": "be708e94",
   "metadata": {},
   "source": [
    "# Model"
   ]
  },
  {
   "cell_type": "code",
   "execution_count": null,
   "id": "7b91c4bc",
   "metadata": {},
   "outputs": [],
   "source": [
    "path = 'experiments/notebooks/configs/'\n",
    "\n",
    "def get_config(file):\n",
    "    cfg = ''\n",
    "    with open(path + file, 'r') as f:\n",
    "        cfg += f.read()\n",
    "\n",
    "    cfg = OmegaConf.create(cfg)\n",
    "    return from_dict(data_class=xLSTMBlockStackConfig, data=OmegaConf.to_container(cfg), config=DaciteConfig(strict=True))\n",
    "\n",
    "\n",
    "encoder_config = get_config('encoder.yml')\n",
    "decoder_config = get_config('decoder.yml')"
   ]
  },
  {
   "cell_type": "code",
   "execution_count": 13,
   "id": "a7ff2e27",
   "metadata": {},
   "outputs": [],
   "source": [
    "vocab_size = len(dataset.tokenizer.vocab)"
   ]
  },
  {
   "cell_type": "code",
   "execution_count": 14,
   "id": "f36fd760",
   "metadata": {},
   "outputs": [],
   "source": [
    "builder = Builder()\n",
    "model = builder.build(\n",
    "    vocab_size,\n",
    "    10,\n",
    "    encoder_config,\n",
    "    decoder_config\n",
    ")"
   ]
  },
  {
   "cell_type": "code",
   "execution_count": null,
   "id": "c7cbf08a",
   "metadata": {},
   "outputs": [],
   "source": [
    "wrapper = Wrapper(model)"
   ]
  },
  {
   "cell_type": "code",
   "execution_count": 16,
   "id": "dd89c653",
   "metadata": {},
   "outputs": [
    {
     "data": {
      "text/plain": [
       "torch.Size([4, 30, 342])"
      ]
     },
     "execution_count": 16,
     "metadata": {},
     "output_type": "execute_result"
    }
   ],
   "source": [
    "x = torch.zeros(1, 12).long()\n",
    "x, mu, sigma = wrapper(batch)\n",
    "x.shape"
   ]
  },
  {
   "cell_type": "markdown",
   "id": "c8db65c5",
   "metadata": {},
   "source": [
    "# Training"
   ]
  },
  {
   "cell_type": "code",
   "execution_count": 17,
   "id": "ee591448",
   "metadata": {},
   "outputs": [],
   "source": [
    "criteria = nn.CrossEntropyLoss(ignore_index=pad_idx)\n",
    "optimizer = torch.optim.Adam(model.parameters(), lr=1e-3)"
   ]
  },
  {
   "cell_type": "code",
   "execution_count": 18,
   "id": "67500bcf",
   "metadata": {},
   "outputs": [],
   "source": [
    "trainer = TextAnnealingTrainer(wrapper, \n",
    "                      criteria, \n",
    "                      optimizer, \n",
    "                      epochs=200,\n",
    "                      batch_size=loader.batch_size,\n",
    "                      method='logistic',\n",
    "                      k=0.003,\n",
    "                      x0=2700)"
   ]
  },
  {
   "cell_type": "code",
   "execution_count": 19,
   "id": "715026bc",
   "metadata": {},
   "outputs": [
    {
     "name": "stdout",
     "output_type": "stream",
     "text": [
      "Epoch: 0, Loss: 559.8569899338943, Model Loss: 5.596838565973135, KD Loss: 544.2967982658973, KD Weight: 0.00032707301435101727\n",
      "Epoch: 1, Loss: 502.3649585430439, Model Loss: 5.021621282284077, KD Loss: 596.1335296630859, KD Weight: 0.0003535966648626083\n",
      "Epoch: 2, Loss: 473.22174776517426, Model Loss: 4.73008628991934, KD Loss: 578.6156745323768, KD Weight: 0.00038227040110077037\n",
      "Epoch: 3, Loss: 448.431883591872, Model Loss: 4.481812788889958, KD Loss: 630.0276172344501, KD Weight: 0.0004132683765895795\n",
      "Epoch: 4, Loss: 424.67752662071814, Model Loss: 4.244069530413701, KD Loss: 627.4723041240985, KD Weight: 0.0004467788275907299\n",
      "Epoch: 5, Loss: 403.5930621807392, Model Loss: 4.032712230315576, KD Loss: 693.1487696721003, KD Weight: 0.0004830052079365387\n",
      "Epoch: 6, Loss: 384.98878126878003, Model Loss: 3.8467788696289062, KD Loss: 618.4845674954928, KD Weight: 0.0005221674146441193\n",
      "Epoch: 7, Loss: 369.1025907076322, Model Loss: 3.6877692754452047, KD Loss: 598.9634469839243, KD Weight: 0.0005645031114598834\n",
      "Epoch: 8, Loss: 349.261724618765, Model Loss: 3.489180867488568, KD Loss: 585.2420806884766, KD Weight: 0.0006102691580273529\n",
      "Epoch: 9, Loss: 339.1247300368089, Model Loss: 3.387259712586036, KD Loss: 625.7001413198618, KD Weight: 0.0006597431529531647\n",
      "Epoch: 10, Loss: 318.54630690354566, Model Loss: 3.1804175743689904, KD Loss: 734.4190274752103, KD Weight: 0.0007132250996681812\n",
      "Epoch: 11, Loss: 304.03112440842847, Model Loss: 3.034705565525935, KD Loss: 755.5333733191857, KD Weight: 0.0007710392046448898\n",
      "Epoch: 12, Loss: 290.61036682128906, Model Loss: 2.9014111023682814, KD Loss: 584.9428558349609, KD Weight: 0.0008335358182408549\n",
      "Epoch: 13, Loss: 273.32149270864636, Model Loss: 2.728425282698411, KD Loss: 552.2843944842999, KD Weight: 0.0009010935291928326\n",
      "Epoch: 14, Loss: 258.9924017099234, Model Loss: 2.584089934825897, KD Loss: 620.7657916729266, KD Weight: 0.0009741214245892094\n",
      "Epoch: 15, Loss: 244.25440685565655, Model Loss: 2.435922595170828, KD Loss: 653.2060992901141, KD Weight: 0.001053061528001446\n",
      "Epoch: 16, Loss: 228.77715829702524, Model Loss: 2.280834110883566, KD Loss: 631.749267578125, KD Weight: 0.001138391429359691\n",
      "Epoch: 17, Loss: 220.35707033597507, Model Loss: 2.1957483750123243, KD Loss: 660.9966970590444, KD Weight: 0.001230627121114956\n",
      "Epoch: 18, Loss: 204.62017998328577, Model Loss: 2.0386601090431213, KD Loss: 587.3408097487229, KD Weight: 0.0013303260562411655\n",
      "Epoch: 19, Loss: 195.07957106370193, Model Loss: 1.94110107421875, KD Loss: 700.1022550142728, KD Weight: 0.001438090444695279\n",
      "Epoch: 20, Loss: 177.45440057607797, Model Loss: 1.7659757733345032, KD Loss: 573.419939481295, KD Weight: 0.0015545708060724663\n",
      "Epoch: 21, Loss: 159.92447192852313, Model Loss: 1.5911520994626558, KD Loss: 500.5139617919922, KD Weight: 0.0016804697973650242\n",
      "Epoch: 22, Loss: 132.0181576655461, Model Loss: 1.3116858968367944, KD Loss: 485.193117581881, KD Weight: 0.0018165463359564081\n",
      "Epoch: 23, Loss: 111.74729963449332, Model Loss: 1.1070463772003467, KD Loss: 550.8168534498948, KD Weight: 0.0019636200392524933\n",
      "Epoch: 24, Loss: 123.95551417424129, Model Loss: 1.2287167608737946, KD Loss: 530.9266463059646, KD Weight: 0.0021225760036665893\n",
      "Epoch: 25, Loss: 118.47917644794171, Model Loss: 1.173968026271233, KD Loss: 488.52716181828424, KD Weight: 0.0022943699470266963\n",
      "Epoch: 26, Loss: 109.28402445866512, Model Loss: 1.0780504781466265, KD Loss: 618.5657207782452, KD Weight: 0.0024800337398550097\n",
      "Epoch: 27, Loss: 105.31983096782977, Model Loss: 1.0409862376176393, KD Loss: 474.10492647611176, KD Weight: 0.00268068135237044\n",
      "Epoch: 28, Loss: 88.25004724355844, Model Loss: 0.86959675183663, KD Loss: 462.6949063814603, KD Weight: 0.0028975152454714798\n",
      "Epoch: 29, Loss: 78.35699154780461, Model Loss: 0.7705767120306308, KD Loss: 430.51713209885816, KD Weight: 0.0031318332353526845\n",
      "Epoch: 30, Loss: 56.783150966350846, Model Loss: 0.5537742422177241, KD Loss: 431.2155268742488, KD Weight: 0.0033850358627728933\n",
      "Epoch: 31, Loss: 54.357495014484115, Model Loss: 0.5293058007955551, KD Loss: 405.6363724928636, KD Weight: 0.0036586342993017605\n",
      "Epoch: 32, Loss: 50.26993362720196, Model Loss: 0.4877283149040662, KD Loss: 392.2856011023888, KD Weight: 0.003954258824092831\n",
      "Epoch: 33, Loss: 52.062790430509125, Model Loss: 0.5030438510271219, KD Loss: 427.8312424879808, KD Weight: 0.004273667905829567\n",
      "Epoch: 34, Loss: 53.15692402766301, Model Loss: 0.5121777298358771, KD Loss: 436.4788618821364, KD Weight: 0.004618757925421015\n",
      "Epoch: 35, Loss: 51.49733345325176, Model Loss: 0.49398681406791395, KD Loss: 435.71683208759015, KD Weight: 0.004991573575733919\n",
      "Epoch: 36, Loss: 48.87199941048255, Model Loss: 0.4696415886282921, KD Loss: 368.2254926241361, KD Weight: 0.005394318975075795\n",
      "Epoch: 37, Loss: 31.739668479332558, Model Loss: 0.29913125187158585, KD Loss: 324.7298713097206, KD Weight: 0.005829369531215157\n",
      "Epoch: 38, Loss: 33.88661197515634, Model Loss: 0.319406495644496, KD Loss: 320.9274638249324, KD Weight: 0.006299284592354781\n",
      "Epoch: 39, Loss: 34.2278711612408, Model Loss: 0.32167478794088733, KD Loss: 314.2937669020433, KD Weight: 0.00680682092056113\n",
      "Epoch: 40, Loss: 30.34383619748629, Model Loss: 0.2808856445436294, KD Loss: 317.7734644963191, KD Weight: 0.007354947021580431\n",
      "Epoch: 41, Loss: 28.077564863058235, Model Loss: 0.2544395267390288, KD Loss: 344.7427420982948, KD Weight: 0.007946858362604267\n",
      "Epoch: 42, Loss: 18.64608595921443, Model Loss: 0.16293911034098038, KD Loss: 284.2991192157452, KD Weight: 0.008585993506228889\n",
      "Epoch: 43, Loss: 28.373485785264236, Model Loss: 0.26072852256206364, KD Loss: 257.2307363656851, KD Weight: 0.009276051184403134\n",
      "Epoch: 44, Loss: 19.61959743499756, Model Loss: 0.16918188075606638, KD Loss: 280.31751016470105, KD Weight: 0.010021008330376101\n",
      "Epoch: 45, Loss: 27.119220330164982, Model Loss: 0.24194992476930985, KD Loss: 280.4497498732347, KD Weight: 0.010825139079304647\n",
      "Epoch: 46, Loss: 30.359960079193115, Model Loss: 0.2722287302693495, KD Loss: 277.84391725980316, KD Weight: 0.011693034739000881\n",
      "Epoch: 47, Loss: 32.949599321071915, Model Loss: 0.2973587545924462, KD Loss: 263.8985724815956, KD Weight: 0.012629624720995767\n",
      "Epoch: 48, Loss: 36.41253764812763, Model Loss: 0.3224379182434999, KD Loss: 317.0305181650015, KD Weight: 0.01364019840833886\n",
      "Epoch: 49, Loss: 26.745182349131657, Model Loss: 0.23064376084277263, KD Loss: 259.87737332857574, KD Weight: 0.01473042791998283\n",
      "Epoch: 50, Loss: 25.257480731377235, Model Loss: 0.20866599979882056, KD Loss: 286.4741568932167, KD Weight: 0.015906391711814714\n",
      "Epoch: 51, Loss: 18.902910929459793, Model Loss: 0.15106861680172956, KD Loss: 229.44330949049728, KD Weight: 0.01717459893096073\n",
      "Epoch: 52, Loss: 11.784018534880419, Model Loss: 0.07755343221987669, KD Loss: 225.48800541804388, KD Weight: 0.018542014412442052\n",
      "Epoch: 53, Loss: 18.138261098128098, Model Loss: 0.13915275008632585, KD Loss: 218.95332571176382, KD Weight: 0.02001608417509923\n",
      "Epoch: 54, Loss: 18.755593868402336, Model Loss: 0.13808724248351958, KD Loss: 237.00633415809045, KD Weight: 0.021604761236419814\n",
      "Epoch: 55, Loss: 22.47370745585515, Model Loss: 0.1686397845355364, KD Loss: 249.66178248478815, KD Weight: 0.023316531522969357\n",
      "Epoch: 56, Loss: 36.60761869870699, Model Loss: 0.3014873117208481, KD Loss: 266.0699633084811, KD Weight: 0.02516043960401965\n",
      "Epoch: 57, Loss: 40.90515166062575, Model Loss: 0.33201554073737216, KD Loss: 294.353515625, KD Weight: 0.02714611392019164\n",
      "Epoch: 58, Loss: 38.02387167857243, Model Loss: 0.30308421930441487, KD Loss: 273.62862396240234, KD Weight: 0.029283791116035067\n",
      "Epoch: 59, Loss: 62.57421698937049, Model Loss: 0.5444033532761611, KD Loss: 266.8309079683744, KD Weight: 0.031584339015089724\n",
      "Epoch: 60, Loss: 74.26924910912147, Model Loss: 0.6428330082159776, KD Loss: 304.2055693406325, KD Weight: 0.034059277697874146\n",
      "Epoch: 61, Loss: 76.8664008654081, Model Loss: 0.6401185155487977, KD Loss: 362.49774287297174, KD Weight: 0.03672079805736543\n",
      "Epoch: 62, Loss: 57.46054275219257, Model Loss: 0.45328063589449114, KD Loss: 317.79960867074817, KD Weight: 0.0395817771130501\n",
      "Epoch: 63, Loss: 55.958923486562874, Model Loss: 0.44030027062847066, KD Loss: 290.2409321711614, KD Weight: 0.04265578926403537\n",
      "Epoch: 64, Loss: 38.15867343315711, Model Loss: 0.26178322374247587, KD Loss: 270.7011519211989, KD Weight: 0.045957112554912236\n",
      "Epoch: 65, Loss: 39.366400902087875, Model Loss: 0.2869809086506183, KD Loss: 222.97180645282452, KD Weight: 0.049500728916462365\n",
      "Epoch: 66, Loss: 40.119496198800896, Model Loss: 0.2951209219888999, KD Loss: 206.4251004732572, KD Weight: 0.053302317228918476\n",
      "Epoch: 67, Loss: 31.58304159457867, Model Loss: 0.20762130718391675, KD Loss: 195.46104079026443, KD Weight: 0.05737823794107905\n",
      "Epoch: 68, Loss: 30.208985328674316, Model Loss: 0.192352654125828, KD Loss: 184.16126779409555, KD Weight: 0.061745507867765205\n",
      "Epoch: 69, Loss: 16.91823038688073, Model Loss: 0.0731473768559786, KD Loss: 149.95757675170898, KD Weight: 0.06642176368549924\n",
      "Epoch: 70, Loss: 18.202515602111816, Model Loss: 0.08426483921133555, KD Loss: 141.68217321542593, KD Weight: 0.07142521255759524\n",
      "Epoch: 71, Loss: 16.301178418673, Model Loss: 0.07019324321299791, KD Loss: 125.1642183157114, KD Weight: 0.0767745682520014\n",
      "Epoch: 72, Loss: 18.739587747133694, Model Loss: 0.09987263990422854, KD Loss: 109.7319192152757, KD Weight: 0.08248897107639515\n",
      "Epoch: 73, Loss: 22.46169350697444, Model Loss: 0.12844853654790384, KD Loss: 112.53207573523888, KD Weight: 0.08858788995464255\n",
      "Epoch: 74, Loss: 25.994288334479698, Model Loss: 0.14426763613636678, KD Loss: 125.68779549231895, KD Weight: 0.09509100501741496\n",
      "Epoch: 75, Loss: 40.98117182804988, Model Loss: 0.27347234106407714, KD Loss: 138.01156440147986, KD Weight: 0.10201806918913038\n",
      "Epoch: 76, Loss: 31.067566651564377, Model Loss: 0.17058511178653973, KD Loss: 132.5850011385404, KD Weight: 0.10938874743575591\n",
      "Epoch: 77, Loss: 46.43149753717276, Model Loss: 0.3290876660209436, KD Loss: 119.10440444946289, KD Weight: 0.11722243260588638\n",
      "Epoch: 78, Loss: 42.53021027491643, Model Loss: 0.27697218796954703, KD Loss: 122.18830812894382, KD Weight: 0.1255380371629388\n",
      "Epoch: 79, Loss: 63.12246102553148, Model Loss: 0.4537634989963128, KD Loss: 136.42207424457257, KD Weight: 0.13435376057997264\n",
      "Epoch: 80, Loss: 56.089155417222244, Model Loss: 0.37937354740615076, KD Loss: 130.44881204458383, KD Weight: 0.1436868327588291\n",
      "Epoch: 81, Loss: 59.619627512418305, Model Loss: 0.3698657602071762, KD Loss: 152.266057234544, KD Weight: 0.15355323454650183\n",
      "Epoch: 82, Loss: 119.0348312671368, Model Loss: 0.8943306100196563, KD Loss: 186.74985680213342, KD Weight: 0.16396739725325668\n",
      "Epoch: 83, Loss: 76.38162172757663, Model Loss: 0.49925192445516586, KD Loss: 156.2036614051232, KD Weight: 0.17494188402159794\n",
      "Epoch: 84, Loss: 63.848123623774605, Model Loss: 0.40167545426923495, KD Loss: 131.2002795292781, KD Weight: 0.18648705693704148\n",
      "Epoch: 85, Loss: 60.06179640843318, Model Loss: 0.3861123644388639, KD Loss: 111.42255020141602, KD Weight: 0.19861073488544276\n",
      "Epoch: 86, Loss: 48.08594336876502, Model Loss: 0.279730365683253, KD Loss: 98.16198466374324, KD Weight: 0.21131784831127748\n",
      "Epoch: 87, Loss: 56.027521500220665, Model Loss: 0.3456816839484068, KD Loss: 98.35702485304613, KD Weight: 0.22461009816957958\n",
      "Epoch: 88, Loss: 73.56571300213153, Model Loss: 0.48213525804189533, KD Loss: 109.4117047236516, KD Weight: 0.23848562743318105\n",
      "Epoch: 89, Loss: 65.74501066941481, Model Loss: 0.3998186678554003, KD Loss: 104.78386482825645, KD Weight: 0.2529387144490264\n",
      "Epoch: 90, Loss: 87.72467195070706, Model Loss: 0.5816527656637706, KD Loss: 113.2032224214994, KD Weight: 0.2679594981583682\n",
      "Epoch: 91, Loss: 72.55399065751295, Model Loss: 0.3793805002306516, KD Loss: 125.72244409414438, KD Weight: 0.28353374562835226\n",
      "Epoch: 92, Loss: 71.12565803527832, Model Loss: 0.44297876180364537, KD Loss: 91.87470568143405, KD Weight: 0.2996426724118744\n",
      "Epoch: 93, Loss: 59.73474487891564, Model Loss: 0.34286649639789873, KD Loss: 82.58848248995267, KD Weight: 0.3162628258921126\n",
      "Epoch: 94, Loss: 56.17532693422758, Model Loss: 0.3313752687894381, KD Loss: 70.88767887995793, KD Weight: 0.33336604092669353\n",
      "Epoch: 95, Loss: 68.15388268690843, Model Loss: 0.40415448867357695, KD Loss: 81.02163124084473, KD Weight: 0.3509194757554267\n",
      "Epoch: 96, Loss: 67.94906850961539, Model Loss: 0.3832933601851647, KD Loss: 82.20714495732234, KD Weight: 0.3688857342751898\n",
      "Epoch: 97, Loss: 82.76757269639235, Model Loss: 0.5278807596231883, KD Loss: 79.17387991685133, KD Weight: 0.3872230784500168\n",
      "Epoch: 98, Loss: 75.0002670288086, Model Loss: 0.42231479545052236, KD Loss: 82.61605688241812, KD Weight: 0.40588573188433286\n",
      "Epoch: 99, Loss: 67.6334475003756, Model Loss: 0.3775112356704015, KD Loss: 71.96597891587477, KD Weight: 0.42482427254931265\n",
      "Epoch: 100, Loss: 56.806749490591194, Model Loss: 0.3091677478872813, KD Loss: 59.61567145127516, KD Weight: 0.44398610945538003\n",
      "Epoch: 101, Loss: 75.4895317371075, Model Loss: 0.4570298623293638, KD Loss: 65.58483270498422, KD Weight: 0.46331603487141626\n",
      "Epoch: 102, Loss: 74.75061798095703, Model Loss: 0.40878354041622234, KD Loss: 71.59881254342886, KD Weight: 0.48275684068067043\n",
      "Epoch: 103, Loss: 82.98676520127516, Model Loss: 0.5299668160195534, KD Loss: 60.872071926410385, KD Weight: 0.5022499848126231\n",
      "Epoch: 104, Loss: 68.24806609520546, Model Loss: 0.3770568403773583, KD Loss: 59.6576592372014, KD Weight: 0.5217362915633222\n",
      "Epoch: 105, Loss: 58.05894719637357, Model Loss: 0.3135998210368248, KD Loss: 50.23842415442834, KD Weight: 0.541156668150228\n",
      "Epoch: 106, Loss: 57.83795121999887, Model Loss: 0.2874948365183977, KD Loss: 52.78793687086839, KD Weight: 0.5604528191374981\n",
      "Epoch: 107, Loss: 71.36335981809177, Model Loss: 0.4288148248138336, KD Loss: 49.93341937431922, KD Weight: 0.57956794046107\n",
      "Epoch: 108, Loss: 61.25783890944261, Model Loss: 0.3296104119374202, KD Loss: 48.04418461139385, KD Weight: 0.5984473756736252\n",
      "Epoch: 109, Loss: 63.32816476088304, Model Loss: 0.33078809455037117, KD Loss: 49.73655612652119, KD Weight: 0.6170392186585261\n",
      "Epoch: 110, Loss: 60.846576543954704, Model Loss: 0.3166368818626954, KD Loss: 46.57821361835186, KD Weight: 0.6352948493228071\n",
      "Epoch: 111, Loss: 53.49779202387883, Model Loss: 0.2566633675820552, KD Loss: 43.15071113292988, KD Weight: 0.6531693915283818\n",
      "Epoch: 112, Loss: 80.09550432058481, Model Loss: 0.48456265985106045, KD Loss: 47.750827055711014, KD Weight: 0.6706220855891847\n",
      "Epoch: 113, Loss: 83.64250520559457, Model Loss: 0.47607041093019337, KD Loss: 53.0459781059852, KD Weight: 0.6876165708708831\n",
      "Epoch: 114, Loss: 82.39333915710449, Model Loss: 0.47565174446656155, KD Loss: 50.03803524604211, KD Weight: 0.7041210772038413\n",
      "Epoch: 115, Loss: 91.54563214228703, Model Loss: 0.561756819486618, KD Loss: 49.662364079402046, KD Weight: 0.7201085268004915\n",
      "Epoch: 116, Loss: 74.74794651911809, Model Loss: 0.3998465771571948, KD Loss: 47.76008987426758, KD Weight: 0.7355565510232094\n",
      "Epoch: 117, Loss: 71.6031568967379, Model Loss: 0.4125119506453092, KD Loss: 40.83817760760967, KD Weight: 0.750447428579585\n",
      "Epoch: 118, Loss: 89.87333415104793, Model Loss: 0.5591545991886121, KD Loss: 44.80251209552471, KD Weight: 0.7647679534665303\n",
      "Epoch: 119, Loss: 90.98387908935547, Model Loss: 0.5442447751187361, KD Loss: 47.35787611741286, KD Weight: 0.7785092422169708\n",
      "Epoch: 120, Loss: 91.64390175159161, Model Loss: 0.4067078003516564, KD Loss: 64.91869823749249, KD Weight: 0.7916664907298545\n",
      "Epoch: 121, Loss: 105.4704790848952, Model Loss: 0.6803423060247531, KD Loss: 46.88514305995061, KD Weight: 0.8042386912202746\n",
      "Epoch: 122, Loss: 92.54112551762508, Model Loss: 0.5266442359066926, KD Loss: 49.201236724853516, KD Weight: 0.8162283196669704\n",
      "Epoch: 123, Loss: 93.735368508559, Model Loss: 0.571413671454558, KD Loss: 44.5158078120305, KD Weight: 0.8276410036283912\n",
      "Epoch: 124, Loss: 77.75317045358511, Model Loss: 0.4312575307603066, KD Loss: 41.55589279761681, KD Weight: 0.8384851795219408\n",
      "Epoch: 125, Loss: 74.85450143080492, Model Loss: 0.4161718095151278, KD Loss: 39.39706303523137, KD Weight: 0.8487717474909259\n",
      "Epoch: 126, Loss: 86.48296678983249, Model Loss: 0.518862709403038, KD Loss: 40.52498311262865, KD Weight: 0.8585137308931017\n",
      "Epoch: 127, Loss: 84.64307476924016, Model Loss: 0.46015973002291644, KD Loss: 44.74509290548471, KD Weight: 0.8677259462990194\n",
      "Epoch: 128, Loss: 65.77324911264273, Model Loss: 0.33717575368399805, KD Loss: 36.7570313673753, KD Weight: 0.8764246887432199\n",
      "Epoch: 129, Loss: 69.7671580681434, Model Loss: 0.3667515120827235, KD Loss: 37.57663279313307, KD Weight: 0.8846274358713289\n",
      "Epoch: 130, Loss: 83.46451935401329, Model Loss: 0.5124267051712825, KD Loss: 36.26098610804631, KD Weight: 0.8923525736048233\n",
      "Epoch: 131, Loss: 57.12986197838416, Model Loss: 0.23950451254271543, KD Loss: 37.02772749387301, KD Weight: 0.8996191450256512\n",
      "Epoch: 132, Loss: 95.34194469451904, Model Loss: 0.5981904139312414, KD Loss: 39.320897542513336, KD Weight: 0.9064466233786885\n",
      "Epoch: 133, Loss: 83.83737109257625, Model Loss: 0.44783200982671517, KD Loss: 42.931660872239334, KD Weight: 0.9128547094068785\n",
      "Epoch: 134, Loss: 96.53921097975511, Model Loss: 0.6344207430688235, KD Loss: 36.12892238910381, KD Weight: 0.9188631526711621\n",
      "Epoch: 135, Loss: 98.40506450946515, Model Loss: 0.609250779908437, KD Loss: 40.659864499018745, KD Weight: 0.9244915960594648\n",
      "Epoch: 136, Loss: 86.00215706458458, Model Loss: 0.5020666757168678, KD Loss: 38.60762713505672, KD Weight: 0.9297594423471001\n",
      "Epoch: 137, Loss: 76.77905552203839, Model Loss: 0.38754145485850483, KD Loss: 40.78613780095027, KD Weight: 0.9346857414239068\n",
      "Epoch: 138, Loss: 79.62767483637883, Model Loss: 0.45462734080277956, KD Loss: 36.46227036989652, KD Weight: 0.9392890966390223\n",
      "Epoch: 139, Loss: 76.69668593773476, Model Loss: 0.4636501049479613, KD Loss: 32.21510982513428, KD Weight: 0.9435875886199013\n",
      "Epoch: 140, Loss: 89.14990014296312, Model Loss: 0.5346273673841586, KD Loss: 37.73670724722055, KD Weight: 0.9475987148858311\n",
      "Epoch: 141, Loss: 99.6749354142409, Model Loss: 0.622734390772306, KD Loss: 39.38974204430213, KD Weight: 0.951339343586357\n",
      "Epoch: 142, Loss: 77.06676776592548, Model Loss: 0.4296756297923051, KD Loss: 35.77558986957256, KD Weight: 0.9548256797413589\n",
      "Epoch: 143, Loss: 87.02273515554575, Model Loss: 0.55011535077714, KD Loss: 33.467142838698166, KD Weight: 0.9580732424328602\n",
      "Epoch: 144, Loss: 85.94033329303448, Model Loss: 0.5024489601357625, KD Loss: 37.19613302670992, KD Weight: 0.9610968514911151\n",
      "Epoch: 145, Loss: 80.41763643118051, Model Loss: 0.40568265748711735, KD Loss: 41.401246584378754, KD Weight: 0.9639106223224954\n",
      "Epoch: 146, Loss: 103.68051514258751, Model Loss: 0.6836130606153836, KD Loss: 36.59027730501615, KD Weight: 0.9665279676387045\n",
      "Epoch: 147, Loss: 85.17561443035419, Model Loss: 0.46523368616516775, KD Loss: 39.940123044527496, KD Weight: 0.9689616049615397\n",
      "Epoch: 148, Loss: 85.83889623788687, Model Loss: 0.5420613240164059, KD Loss: 32.60638559781588, KD Weight: 0.9712235688913828\n",
      "Epoch: 149, Loss: 89.04888827984149, Model Loss: 0.5426506592104068, KD Loss: 35.77439359518198, KD Weight: 0.9733252272382401\n",
      "Epoch: 150, Loss: 86.5603096301739, Model Loss: 0.5069775297664679, KD Loss: 36.80598068237305, KD Weight: 0.9752773002196243\n",
      "Epoch: 151, Loss: 93.46800980201134, Model Loss: 0.5375762679255925, KD Loss: 40.67888120504526, KD Weight: 0.9770898820285917\n",
      "Epoch: 152, Loss: 68.3610372543335, Model Loss: 0.35250244475901127, KD Loss: 33.85697166736309, KD Weight: 0.9787724641669946\n",
      "Epoch: 153, Loss: 86.79403877258301, Model Loss: 0.5287957396358252, KD Loss: 34.621012467604416, KD Weight: 0.980333960023118\n",
      "Epoch: 154, Loss: 74.38441790067233, Model Loss: 0.4051375644138226, KD Loss: 34.52286602900578, KD Weight: 0.98178273024916\n",
      "Epoch: 155, Loss: 82.3843014056866, Model Loss: 0.45173030790801233, KD Loss: 37.874693577106186, KD Weight: 0.9831266085626459\n",
      "Epoch: 156, Loss: 84.28448178217961, Model Loss: 0.5029996812630159, KD Loss: 34.54490346174974, KD Weight: 0.9843729276570837\n",
      "Epoch: 157, Loss: 70.08880908672626, Model Loss: 0.383673142355222, KD Loss: 32.20580643873949, KD Weight: 0.9855285449613586\n",
      "Epoch: 158, Loss: 63.13212270003099, Model Loss: 0.32721596118062735, KD Loss: 30.839546643770657, KD Weight: 0.9865998680350055\n",
      "Epoch: 159, Loss: 72.6840378687932, Model Loss: 0.3778256599146586, KD Loss: 35.35639792222243, KD Weight: 0.9875928794280804\n",
      "Epoch: 160, Loss: 84.96737758929913, Model Loss: 0.5016295392639362, KD Loss: 35.22454988039457, KD Weight: 0.9885131608704034\n",
      "Epoch: 161, Loss: 83.55658795283391, Model Loss: 0.4723717550245615, KD Loss: 36.725400044367866, KD Weight: 0.9893659166860018\n",
      "Epoch: 162, Loss: 61.716199508080116, Model Loss: 0.29923781824226564, KD Loss: 32.121497007516716, KD Weight: 0.9901559963551348\n",
      "Epoch: 163, Loss: 62.685423630934494, Model Loss: 0.33790157821315986, KD Loss: 29.171606210561897, KD Weight: 0.990887916168834\n",
      "Epoch: 164, Loss: 83.13427983797513, Model Loss: 0.5089141131880192, KD Loss: 32.527448654174805, KD Weight: 0.9915658799399059\n",
      "Epoch: 165, Loss: 67.08058973459097, Model Loss: 0.344893860988892, KD Loss: 32.85768589606652, KD Weight: 0.9921937987502233\n",
      "Epoch: 166, Loss: 86.34038837139423, Model Loss: 0.5379192383530048, KD Loss: 32.794195248530464, KD Weight: 0.9927753097272992\n",
      "Epoch: 167, Loss: 89.50741004943848, Model Loss: 0.5564332570020969, KD Loss: 34.1010962999784, KD Weight: 0.9933137938539155\n",
      "Epoch: 168, Loss: 72.04476092411922, Model Loss: 0.3872174796863244, KD Loss: 33.5388722052941, KD Weight: 0.9938123928233186\n",
      "Epoch: 169, Loss: 96.85725798973671, Model Loss: 0.6261072028428316, KD Loss: 34.45139833597037, KD Weight: 0.9942740249594547\n",
      "Epoch: 170, Loss: 67.9852776160607, Model Loss: 0.3506314207154971, KD Loss: 33.104590562673714, KD Weight: 0.9947014002271793\n",
      "Epoch: 171, Loss: 85.6086557828463, Model Loss: 0.5287135889610419, KD Loss: 32.90475170428936, KD Weight: 0.9950970343615454\n",
      "Epoch: 172, Loss: 74.01814372722919, Model Loss: 0.4179773789185744, KD Loss: 32.372998824486366, KD Weight: 0.9954632621483522\n",
      "Epoch: 173, Loss: 55.964391048137955, Model Loss: 0.27334829649099934, KD Loss: 28.75490357325627, KD Weight: 0.9958022498903221\n",
      "Epoch: 174, Loss: 63.834196677574745, Model Loss: 0.34501936544592565, KD Loss: 29.45099815955529, KD Weight: 0.9961160070946645\n",
      "Epoch: 175, Loss: 87.3175959953895, Model Loss: 0.5330455009467326, KD Loss: 34.140190197871284, KD Weight: 0.9964063974185798\n",
      "Epoch: 176, Loss: 76.56101916386531, Model Loss: 0.4018832662930855, KD Loss: 36.49891618581918, KD Weight: 0.9966751489095033\n",
      "Epoch: 177, Loss: 70.42811936598558, Model Loss: 0.40779524883971763, KD Loss: 29.74370706998385, KD Weight: 0.9969238635767359\n",
      "Epoch: 178, Loss: 69.02189680246207, Model Loss: 0.37572284859533495, KD Loss: 31.542832301213192, KD Weight: 0.9971540263306096\n",
      "Epoch: 179, Loss: 53.08525349543645, Model Loss: 0.22565978120725888, KD Loss: 30.6031431051401, KD Weight: 0.9973670133245615\n",
      "Epoch: 180, Loss: 64.8205623626709, Model Loss: 0.35947257738847, KD Loss: 28.94650356586163, KD Weight: 0.9975640997345283\n",
      "Epoch: 181, Loss: 77.90143614548903, Model Loss: 0.4522050518829089, KD Loss: 32.75757444821871, KD Weight: 0.9977464670089337\n",
      "Epoch: 182, Loss: 59.73352226844201, Model Loss: 0.29075401147397667, KD Loss: 30.72465287722074, KD Weight: 0.9979152096212999\n",
      "Epoch: 183, Loss: 66.22261458176833, Model Loss: 0.36903651538663185, KD Loss: 29.377880609952488, KD Weight: 0.9980713413561928\n",
      "Epoch: 184, Loss: 60.308194380540115, Model Loss: 0.2923405491388761, KD Loss: 31.131736828730656, KD Weight: 0.9982158011578314\n",
      "Epoch: 185, Loss: 70.32732068575345, Model Loss: 0.3704776345537259, KD Loss: 33.33673161726732, KD Weight: 0.9983494585692957\n",
      "Epoch: 186, Loss: 75.76649966606728, Model Loss: 0.40629266087825483, KD Loss: 35.19307584028978, KD Weight: 0.9984731187888582\n",
      "Epoch: 187, Loss: 70.47702921353854, Model Loss: 0.3608537130057812, KD Loss: 34.442326252277084, KD Weight: 0.9985875273685716\n",
      "Epoch: 188, Loss: 57.941407717191254, Model Loss: 0.2667215487991388, KD Loss: 31.31175892169659, KD Weight: 0.9986933745788604\n",
      "Epoch: 189, Loss: 70.69323965219351, Model Loss: 0.39495373954280066, KD Loss: 31.23711138505202, KD Weight: 0.9987912994615328\n",
      "Epoch: 190, Loss: 61.08217870272123, Model Loss: 0.3139898393016595, KD Loss: 29.717740132258488, KD Weight: 0.9988818935923116\n",
      "Epoch: 191, Loss: 72.32600388160118, Model Loss: 0.3943426304568465, KD Loss: 32.927090864915115, KD Weight: 0.9989657045727329\n",
      "Epoch: 192, Loss: 59.729870576124924, Model Loss: 0.26284034227809083, KD Loss: 33.47908922342154, KD Weight: 0.9990432392700451\n",
      "Epoch: 193, Loss: 64.63364483759953, Model Loss: 0.33723099544071233, KD Loss: 30.93898501762977, KD Weight: 0.9991149668225814\n",
      "Epoch: 194, Loss: 72.80357771653395, Model Loss: 0.4024203656098017, KD Loss: 32.589206622197075, KD Weight: 0.9991813214269746\n",
      "Epoch: 195, Loss: 62.646440065824066, Model Loss: 0.2856901783782702, KD Loss: 34.104277243980995, KD Weight: 0.9992427049225291\n",
      "Epoch: 196, Loss: 71.26477549626277, Model Loss: 0.40159419623131937, KD Loss: 31.128031950730545, KD Weight: 0.9992994891870673\n",
      "Epoch: 197, Loss: 53.36936297783485, Model Loss: 0.25687746732280803, KD Loss: 27.700276448176457, KD Weight: 0.9993520183576197\n",
      "Epoch: 198, Loss: 73.85721191993126, Model Loss: 0.4458892457187176, KD Loss: 29.286497556246243, KD Weight: 0.9994006108884428\n",
      "Epoch: 199, Loss: 79.65536983196552, Model Loss: 0.42745430294710857, KD Loss: 36.93118491539588, KD Weight: 0.9994455614579982\n"
     ]
    }
   ],
   "source": [
    "model, metrics = trainer.train(loader, teacher_forcing=0.5, return_metrics=True)"
   ]
  },
  {
   "cell_type": "code",
   "execution_count": 20,
   "id": "ce6923f2",
   "metadata": {},
   "outputs": [
    {
     "data": {
      "image/png": "[encoded data removed]",
      "text/plain": [
       "<Figure size 1200x800 with 4 Axes>"
      ]
     },
     "metadata": {},
     "output_type": "display_data"
    }
   ],
   "source": [
    "epochs = list(range(1, len(metrics['model_loss']) + 1))\n",
    "\n",
    "fig, axes = plt.subplots(2, 2, figsize=(12, 8))\n",
    "\n",
    "axes[0, 0].plot(epochs, metrics['model_loss'])\n",
    "axes[0, 0].set_title('Model Loss')\n",
    "axes[0, 0].set_xlabel('Iteration')\n",
    "axes[0, 0].set_ylabel('Loss')\n",
    "\n",
    "axes[0, 1].plot(epochs, metrics['kd_loss'])\n",
    "axes[0, 1].set_title('KD Loss')\n",
    "axes[0, 1].set_xlabel('Iteration')\n",
    "axes[0, 1].set_ylabel('Loss')\n",
    "\n",
    "axes[1, 0].plot(epochs, metrics['kd_weight'])\n",
    "axes[1, 0].set_title('KD Weight')\n",
    "axes[1, 0].set_xlabel('Iteration')\n",
    "axes[1, 0].set_ylabel('Weight')\n",
    "\n",
    "axes[1, 1].axis('off')\n",
    "\n",
    "plt.tight_layout()\n",
    "plt.show()"
   ]
  },
  {
   "cell_type": "markdown",
   "id": "e35cbad8",
   "metadata": {},
   "source": [
    "# Performance"
   ]
  },
  {
   "cell_type": "code",
   "execution_count": 27,
   "id": "938d8442",
   "metadata": {},
   "outputs": [],
   "source": [
    "def transform_to_text(output):\n",
    "    return ' '.join(dataset.tokenizer.decode(output.numpy().tolist()[0]))"
   ]
  },
  {
   "cell_type": "code",
   "execution_count": 28,
   "id": "c281e6bb",
   "metadata": {},
   "outputs": [],
   "source": [
    "count = 10\n",
    "results = {'input': [], 'output': []}\n",
    "\n",
    "for sentence in dataset:\n",
    "    input = sentence.unsqueeze(0)\n",
    "\n",
    "    output, mu, sigma = model(input)\n",
    "    output = output.argmax(dim=-1)\n",
    "    \n",
    "    input = transform_to_text(input)\n",
    "    output = transform_to_text(output)\n",
    "\n",
    "    results['input'].append(input)\n",
    "    results['output'].append(output)\n",
    "\n",
    "    if count == 0:\n",
    "        break\n",
    "\n",
    "    count -= 1"
   ]
  },
  {
   "cell_type": "code",
   "execution_count": 29,
   "id": "2bd89a63",
   "metadata": {},
   "outputs": [
    {
     "data": {
      "text/plain": [
       "{'input': ['I usually get up around seven in the morning <eos>',\n",
       "  'She forgot to bring her umbrella again <eos>',\n",
       "  'We were talking about the trip last night <eos>',\n",
       "  'He always leaves his keys on the kitchen table <eos>',\n",
       "  'They decided to try a new restaurant downtown <eos>',\n",
       "  'Are you going to the meeting this afternoon <eos>',\n",
       "  'I haven’t seen him since last summer <eos>',\n",
       "  'The coffee machine stopped working yesterday <eos>',\n",
       "  'She’s been learning French for a few months <eos>',\n",
       "  'Let me know if you need any help with that <eos>',\n",
       "  'He’s planning to move to a new apartment soon <eos>'],\n",
       " 'output': ['I haven’t had breakfast yet <eos> at the event <eos> weekend <eos> weekend <eos> <eos> weekend <eos> weekend <eos> <eos> weekend <eos> weekend <eos> <eos> weekend <eos> weekend <eos> <eos>',\n",
       "  'She’s planning a trip to Europe <eos> dog <eos> <eos> <eos> <eos> <eos> <eos> <eos> <eos> <eos> <eos> <eos> <eos> <eos> <eos> <eos> <eos> <eos> <eos> <eos> <eos> <eos> <eos>',\n",
       "  'We were talking about the trip last night <eos> <eos> <eos> <eos> <eos> <eos> <eos> <eos> <eos> <eos> <eos> <eos> <eos> <eos> <eos> <eos> <eos> <eos> <eos> <eos> <eos> <eos>',\n",
       "  'He always leaves his keys on the kitchen table <eos> table <eos> table <eos> table <eos> table <eos> table <eos> table <eos> table <eos> table <eos> table <eos> table <eos>',\n",
       "  'They decided to try a new restaurant downtown <eos> <eos> <eos> <eos> <eos> <eos> <eos> <eos> <eos> <eos> <eos> <eos> <eos> <eos> <eos> <eos> <eos> <eos> <eos> <eos> <eos> <eos>',\n",
       "  'We you going to the meeting this afternoon <eos> <eos> <eos> <eos> <eos> <eos> <eos> <eos> <eos> <eos> <eos> <eos> <eos> <eos> <eos> <eos> <eos> <eos> <eos> <eos> <eos> <eos>',\n",
       "  'I haven’t seen him since last summer <eos> summer <eos> summer <eos> summer <eos> summer <eos> <eos> <eos> <eos> <eos> <eos> <eos> <eos> <eos> <eos> <eos> <eos> <eos> <eos> <eos>',\n",
       "  'The coffee machine stopped working yesterday <eos> because she <eos> <eos> <eos> <eos> <eos> <eos> <eos> <eos> <eos> <eos> <eos> <eos> <eos> <eos> <eos> <eos> <eos> <eos> <eos> <eos> <eos>',\n",
       "  'She’s been very busy lately work lately <eos> few months <eos> <eos> <eos> <eos> <eos> <eos> <eos> <eos> <eos> <eos> <eos> <eos> <eos> <eos> <eos> <eos> <eos> <eos> <eos> <eos>',\n",
       "  'Let me know if you need any help with that <eos> <eos> <eos> <eos> <eos> <eos> <eos> <eos> <eos> <eos> <eos> <eos> <eos> <eos> <eos> <eos> <eos> <eos> <eos> <eos>',\n",
       "  'He’s planning to move to a new apartment soon <eos> <eos> <eos> <eos> <eos> <eos> <eos> <eos> <eos> <eos> <eos> <eos> <eos> <eos> <eos> <eos> <eos> <eos> <eos> <eos> <eos>']}"
      ]
     },
     "execution_count": 29,
     "metadata": {},
     "output_type": "execute_result"
    }
   ],
   "source": [
    "results"
   ]
  },
  {
   "cell_type": "markdown",
   "id": "515075cf",
   "metadata": {},
   "source": [
    "# Interpolation"
   ]
  },
  {
   "cell_type": "code",
   "execution_count": null,
   "id": "6db71c59",
   "metadata": {},
   "outputs": [],
   "source": [
    "z1 = torch.randn(1, 10)\n",
    "z2 = torch.randn(1, 10)"
   ]
  },
  {
   "cell_type": "code",
   "execution_count": null,
   "id": "9f2df4d8",
   "metadata": {},
   "outputs": [],
   "source": [
    "output1 = model.model.decoder(z1)\n",
    "output2 = model.model.decoder(z2)\n",
    "\n",
    "output1 = output1.argmax(dim=-1)\n",
    "output2 = output2.argmax(dim=-1)\n",
    "\n",
    "output1 = transform_to_text(output1)\n",
    "output2 = transform_to_text(output2)"
   ]
  },
  {
   "cell_type": "code",
   "execution_count": null,
   "id": "db1b1b90",
   "metadata": {},
   "outputs": [
    {
     "name": "stdout",
     "output_type": "stream",
     "text": [
      "First sentence: They’ve been working on that for hours \n",
      "Second sentence: They always complaining about the weather \n"
     ]
    }
   ],
   "source": [
    "print(\"First sentence:\", output1.split('<eos>')[0])\n",
    "print(\"Second sentence:\", output2.split('<eos>')[0])"
   ]
  },
  {
   "cell_type": "code",
   "execution_count": null,
   "id": "3eee52ec",
   "metadata": {},
   "outputs": [
    {
     "name": "stdout",
     "output_type": "stream",
     "text": [
      "alpha=0.00 → They’ve been working on that for hours \n",
      "alpha=0.11 → They’ve been working on that for hours \n",
      "alpha=0.22 → I was work from home on Fridays \n",
      "alpha=0.33 → I was work from home on Fridays \n",
      "alpha=0.44 → I was work from home on Fridays \n",
      "alpha=0.56 → I couldn’t understand what he was saying \n",
      "alpha=0.67 → They always go for a walk after dinner \n",
      "alpha=0.78 → They always go for a walk after dinner \n",
      "alpha=0.89 → They always go for a walk after dinner \n",
      "alpha=1.00 → They always complaining about the weather \n"
     ]
    }
   ],
   "source": [
    "num_steps = 10\n",
    "\n",
    "for alpha in torch.linspace(0, 1, steps=num_steps):\n",
    "    z_interp = (1 - alpha) * z1 + alpha * z2\n",
    "    output = model.model.decoder(z_interp)\n",
    "    output = output.argmax(dim=-1)\n",
    "    text = transform_to_text(output)\n",
    "    print(f\"alpha={alpha:.2f} →\", text.split('<eos>')[0])"
   ]
  }
 ],
 "metadata": {
  "kernelspec": {
   "display_name": "xlstm_up",
   "language": "python",
   "name": "python3"
  },
  "language_info": {
   "codemirror_mode": {
    "name": "ipython",
    "version": 3
   },
   "file_extension": ".py",
   "mimetype": "text/x-python",
   "name": "python",
   "nbconvert_exporter": "python",
   "pygments_lexer": "ipython3",
   "version": "3.12.9"
  }
 },
 "nbformat": 4,
 "nbformat_minor": 5
}
